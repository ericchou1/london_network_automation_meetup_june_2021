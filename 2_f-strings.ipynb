{
 "cells": [
  {
   "cell_type": "markdown",
   "id": "7dd70a8e-7b12-4be2-ae38-8f4e2f8d9aaf",
   "metadata": {},
   "source": [
    "## Strings"
   ]
  },
  {
   "cell_type": "code",
   "execution_count": null,
   "id": "46c638cc-b28d-4a1b-9f10-892b4d00ac12",
   "metadata": {},
   "outputs": [],
   "source": [
    ">>> r1 = \"lax-edg-r1\"\n",
    ">>> location = \"Los Angeles\"\n",
    ">>> \"Router \" + r1 + \" is located in \" + location + \".\" # pretty hard to read "
   ]
  },
  {
   "cell_type": "markdown",
   "id": "2d718103-f110-4fac-8f25-cf79b83e2d2b",
   "metadata": {},
   "source": [
    "---\n",
    "With % formats: "
   ]
  },
  {
   "cell_type": "code",
   "execution_count": null,
   "id": "6cff0aad-285e-4733-a5d7-734e8d5b3ac0",
   "metadata": {},
   "outputs": [],
   "source": [
    "# in place substituion \n",
    ">>> \"Router %s is located in %s.\" % (r1, location)"
   ]
  },
  {
   "cell_type": "code",
   "execution_count": null,
   "id": "469a5215-dee3-4bcf-a421-b45bb5a84778",
   "metadata": {},
   "outputs": [],
   "source": [
    "# string, int, and formatted float\n",
    ">>> r1 = \"lax-edg-r1\"\n",
    ">>> interface = 48\n",
    ">>> cost = 596049.22321232\n",
    ">>> \"%s has %d interface and costs about USD %.2f.\" % (r1, interface, cost)"
   ]
  },
  {
   "cell_type": "markdown",
   "id": "b67f90e5-d62a-4da8-9988-0bdbdf1d8a0b",
   "metadata": {},
   "source": [
    "---\n",
    "Using str.format():"
   ]
  },
  {
   "cell_type": "code",
   "execution_count": null,
   "id": "dc734f27-649e-4145-b845-753515f55056",
   "metadata": {},
   "outputs": [],
   "source": [
    "# Using curly braces for variables\n",
    ">>> \"Router {} is located in {}.\".format(r1, location)"
   ]
  },
  {
   "cell_type": "code",
   "execution_count": null,
   "id": "8318c98f-ee9f-476a-8245-2e2b756c63f2",
   "metadata": {},
   "outputs": [],
   "source": [
    "# positional reference\n",
    ">>> \"Location: {1}, Router: {0}.\".format(r1, location)"
   ]
  },
  {
   "cell_type": "code",
   "execution_count": null,
   "id": "7dbb5560-e0ef-4989-b7c3-8b409d8d6aa5",
   "metadata": {},
   "outputs": [],
   "source": [
    ">>> routers = {\"r1\": \"lax-edg-r1\", \"r2\": \"lax-edg-r2\", \"r3\": \"lax-edg-r3\"}"
   ]
  },
  {
   "cell_type": "code",
   "execution_count": null,
   "id": "a59ef42f-e1de-4158-b57d-eaf4eee1806b",
   "metadata": {},
   "outputs": [],
   "source": [
    "# pass in objects and reference the variable\n",
    ">>> \"Router 1 is {name}\".format(name=routers['r1'])"
   ]
  },
  {
   "cell_type": "code",
   "execution_count": null,
   "id": "be67b9ac-6aa0-42b6-8edc-5fa0eae33e85",
   "metadata": {},
   "outputs": [],
   "source": [
    "# it can be pretty long and hard to read\n",
    ">>> \"LAX is one of our most important location, {name1} and {name2} are in the first edge pair with {name3} being the spare\".format(name1=routers['r1'], name2=routers['r2'], name3=routers['r3'])"
   ]
  },
  {
   "cell_type": "code",
   "execution_count": null,
   "id": "75e42c04-6e56-4b13-9f38-6051779f5ea5",
   "metadata": {},
   "outputs": [],
   "source": [
    ">>> \"LAX DC: {r1}, {r3}, {r2}\".format(**routers)"
   ]
  },
  {
   "cell_type": "code",
   "execution_count": null,
   "id": "54da1f1c-5670-418b-acbb-8b968bb661fc",
   "metadata": {},
   "outputs": [],
   "source": [
    ">>> age = 192010.111202919\n",
    ">>> \"Thor is actually {:.2f} years old\".format(age)"
   ]
  },
  {
   "cell_type": "markdown",
   "id": "6149224e-1213-48ca-90cb-5327f438f18c",
   "metadata": {},
   "source": [
    "---\n",
    "f-string (Python 3.6+ PEP498): \n"
   ]
  },
  {
   "cell_type": "code",
   "execution_count": null,
   "id": "db91e78d-63ea-411e-95e5-f1c3512f686a",
   "metadata": {},
   "outputs": [],
   "source": [
    "# New in 3.6, can use f\"\" or F\"\"\n",
    ">>> f\"{r1} is located in {location}\""
   ]
  },
  {
   "cell_type": "code",
   "execution_count": null,
   "id": "165bebc1-42a6-4e6b-9486-4d48f1817da1",
   "metadata": {},
   "outputs": [],
   "source": [
    "# handle expressions\n",
    ">>> f\"{r1} has {12*4} interfaces.\""
   ]
  },
  {
   "cell_type": "code",
   "execution_count": null,
   "id": "b8fb0d9f-6db6-46a1-8e4e-f4311f4f607c",
   "metadata": {},
   "outputs": [],
   "source": [
    "# call methods directly\n",
    ">>> f\"{r1.upper()} is pretty stable.\""
   ]
  },
  {
   "cell_type": "code",
   "execution_count": null,
   "id": "dc9414e7-adab-4dd2-b77e-5c32445371eb",
   "metadata": {},
   "outputs": [],
   "source": [
    "# Or your own functions\n",
    ">>> def to_upper(word):\n",
    "        return word.upper()\n",
    " \n",
    ">>> f\"{to_upper(r1)} is pretty stable.\""
   ]
  },
  {
   "cell_type": "code",
   "execution_count": null,
   "id": "581ee6e1-fc57-4300-a470-dc8f860149b0",
   "metadata": {},
   "outputs": [],
   "source": [
    "# Multi-line f-string\n",
    ">>> f\"\"\" Location: {location}, \n",
    "    with routers['r1'] and router['r2'].\n",
    "\"\"\""
   ]
  },
  {
   "cell_type": "markdown",
   "id": "953f9fb3-e0f5-4f06-8a0a-daba2e88d7ac",
   "metadata": {},
   "source": [
    "---\n",
    "\n",
    "Additional Resources: \n",
    "\n",
    "https://realpython.com/python-f-strings/ \n",
    "\n",
    "https://docs.python.org/3/reference/lexical_analysis.html#formatted-string-literals\n",
    "\n",
    "---"
   ]
  }
 ],
 "metadata": {
  "kernelspec": {
   "display_name": "Python 3",
   "language": "python",
   "name": "python3"
  },
  "language_info": {
   "codemirror_mode": {
    "name": "ipython",
    "version": 3
   },
   "file_extension": ".py",
   "mimetype": "text/x-python",
   "name": "python",
   "nbconvert_exporter": "python",
   "pygments_lexer": "ipython3",
   "version": "3.8.1"
  }
 },
 "nbformat": 4,
 "nbformat_minor": 5
}
