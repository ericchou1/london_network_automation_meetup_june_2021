{
 "cells": [
  {
   "cell_type": "markdown",
   "id": "70fd0e21-f875-4bb6-86e1-fb244f410d13",
   "metadata": {},
   "source": [
    "## Interesting new standard libraries in Python 3"
   ]
  },
  {
   "cell_type": "markdown",
   "id": "e7711a2b-af77-49ca-8fc0-cdad1d88ac2b",
   "metadata": {},
   "source": [
    "### ipaddress (straight forward handling of ip addresses), 3.3+:\n",
    "https://docs.python.org/3/library/ipaddress.html\n",
    "\n"
   ]
  },
  {
   "cell_type": "markdown",
   "id": "35824f77-8149-4ae5-8dff-40513fa6c4b3",
   "metadata": {},
   "source": [
    "### Typing (support for type hints), 3.5+:\n",
    "https://docs.python.org/3/library/typing.html\n",
    "\n"
   ]
  },
  {
   "cell_type": "markdown",
   "id": "5cae12ac-aa0c-46f6-8f06-2a860dbbb8f4",
   "metadata": {},
   "source": [
    "### Pathlib (offers class representing filesystem paths), 3.4+:\n",
    "https://docs.python.org/3/library/pathlib.html\n",
    "\n"
   ]
  },
  {
   "cell_type": "markdown",
   "id": "34258e88-deae-4904-9d37-af136aad6dca",
   "metadata": {},
   "source": [
    "### Python Development Mode (additonal runtime checks), 3.7+:\n",
    "https://docs.python.org/3/library/devmode.html\n",
    "\n"
   ]
  }
 ],
 "metadata": {
  "kernelspec": {
   "display_name": "Python 3",
   "language": "python",
   "name": "python3"
  },
  "language_info": {
   "codemirror_mode": {
    "name": "ipython",
    "version": 3
   },
   "file_extension": ".py",
   "mimetype": "text/x-python",
   "name": "python",
   "nbconvert_exporter": "python",
   "pygments_lexer": "ipython3",
   "version": "3.8.1"
  }
 },
 "nbformat": 4,
 "nbformat_minor": 5
}
